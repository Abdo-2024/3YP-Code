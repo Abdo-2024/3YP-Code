{
 "cells": [
  {
   "cell_type": "code",
   "execution_count": 1,
   "metadata": {},
   "outputs": [
    {
     "name": "stdout",
     "output_type": "stream",
     "text": [
      "Plot saved as 'myplot.svg'\n"
     ]
    }
   ],
   "source": [
    "import numpy as np\n",
    "import matplotlib.pyplot as plt\n",
    "\n",
    "# --- Define time-of-flight functions ---\n",
    "def time_of_flight_coarse(x):\n",
    "    if x < 1.5:\n",
    "        return 1.0\n",
    "    elif x < 3.0:\n",
    "        return 2.0\n",
    "    elif x < 4.5:\n",
    "        return 3.0\n",
    "    elif x < 6.0:\n",
    "        return 4.0\n",
    "    elif x < 7.5:\n",
    "        return 5.0\n",
    "    elif x < 9.0:\n",
    "        return 6.0\n",
    "    else:\n",
    "        return 7.0\n",
    "\n",
    "def time_of_flight_fine(x):\n",
    "    if x < 1.0:\n",
    "        return 1.0\n",
    "    elif x < 2.0:\n",
    "        return 2.0\n",
    "    elif x < 3.0:\n",
    "        return 3.0\n",
    "    elif x < 4.0:\n",
    "        return 4.0\n",
    "    elif x < 5.0:\n",
    "        return 5.0\n",
    "    elif x < 6.0:\n",
    "        return 6.0\n",
    "    elif x < 7.0:\n",
    "        return 7.0\n",
    "    elif x < 8.0:\n",
    "        return 8.0\n",
    "    elif x < 9.0:\n",
    "        return 9.0\n",
    "    else:\n",
    "        return 10.0\n",
    "\n",
    "# --- Generate data for both plots ---\n",
    "# Coarse data sampling (step size is fixed here, e.g., 0.5)\n",
    "step_size = 0.5\n",
    "x_coarse = np.arange(0, 10 + step_size, step_size)\n",
    "y_coarse = np.array([time_of_flight_coarse(x) for x in x_coarse])\n",
    "\n",
    "# Fine data sampling\n",
    "x_fine = np.arange(0, 10.01, 0.1)\n",
    "y_fine = np.array([time_of_flight_fine(x) for x in x_fine])\n",
    "\n",
    "# --- Create the plot with both datasets ---\n",
    "fig, ax = plt.subplots(figsize=(8, 5))\n",
    "\n",
    "# Use step plot (similar to 'steppost' in Julia)\n",
    "ax.step(x_coarse, y_coarse, where='post', linewidth=2, color=\"#3E4F75\", label=\"7 Balls\")\n",
    "ax.step(x_fine, y_fine, where='post', linewidth=2, color=\"blue\", label=\"More Balls\")\n",
    "\n",
    "ax.set_xlabel(\"Position\", fontsize=14)\n",
    "ax.set_ylabel(\"Time-of-Flight\", fontsize=14)\n",
    "ax.set_title(\"Depth Profile of Wall\", fontsize=16)\n",
    "ax.legend(fontsize=12)\n",
    "ax.tick_params(labelsize=12)\n",
    "\n",
    "plt.tight_layout()\n",
    "\n",
    "# --- Save the figure as an SVG file ---\n",
    "plt.savefig(\"myplot.svg\", format=\"svg\")\n",
    "plt.close(fig)\n",
    "\n",
    "print(\"Plot saved as 'myplot.svg'\")\n"
   ]
  }
 ],
 "metadata": {
  "kernelspec": {
   "display_name": "env",
   "language": "python",
   "name": "python3"
  },
  "language_info": {
   "codemirror_mode": {
    "name": "ipython",
    "version": 3
   },
   "file_extension": ".py",
   "mimetype": "text/x-python",
   "name": "python",
   "nbconvert_exporter": "python",
   "pygments_lexer": "ipython3",
   "version": "3.13.2"
  }
 },
 "nbformat": 4,
 "nbformat_minor": 2
}
