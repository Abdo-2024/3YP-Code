{
 "cells": [
  {
   "cell_type": "code",
   "execution_count": null,
   "metadata": {},
   "outputs": [],
   "source": [
    "import trimesh\n",
    "import numpy as np\n",
    "\n",
    "def add_random_holes(mesh, num_holes=5, hole_radius_range=(0.01, 0.05)):\n",
    "    \"\"\"\n",
    "    Introduces random spherical holes into the mesh to simulate imperfections.\n",
    "\n",
    "    Parameters:\n",
    "    - mesh: Trimesh object representing the 3D model.\n",
    "    - num_holes: Number of holes to add.\n",
    "    - hole_radius_range: Tuple specifying the minimum and maximum radius of the holes.\n",
    "    \"\"\"\n",
    "    for _ in range(num_holes):\n",
    "        # Generate random position for the hole center within the mesh bounds\n",
    "        min_bound, max_bound = mesh.bounds\n",
    "        hole_center = np.random.uniform(min_bound, max_bound)\n",
    "        \n",
    "        # Generate a random radius for the hole\n",
    "        hole_radius = np.random.uniform(*hole_radius_range)\n",
    "        \n",
    "        # Create a sphere mesh representing the hole\n",
    "        hole = trimesh.creation.icosphere(radius=hole_radius, subdivisions=3)\n",
    "        hole.apply_translation(hole_center)\n",
    "        \n",
    "        # Perform a boolean subtraction to remove the hole from the mesh\n",
    "        mesh = mesh.difference(hole)\n",
    "    \n",
    "    return mesh\n",
    "\n",
    "def main():\n",
    "    # Load your STL file\n",
    "    mesh = trimesh.load_mesh('/home/a/Documents/Obsidian Vault/Oxford/3rd Year/3YP - 3D Printer Nano Project/Experiments/Code/attempt3/2x2_MN_Array_scaled.stl')\n",
    "    \n",
    "    # Check if the mesh is loaded correctly\n",
    "    if mesh.is_empty:\n",
    "        print(\"Failed to load the mesh.\")\n",
    "        return\n",
    "    \n",
    "    # Add random holes to the mesh\n",
    "    modified_mesh = add_random_holes(mesh)\n",
    "    \n",
    "    # Export the modified mesh to a new STL file\n",
    "    modified_mesh.export('modified_model_with_holes.stl')\n",
    "    \n",
    "if __name__ == \"__main__\":\n",
    "    main()\n"
   ]
  }
 ],
 "metadata": {
  "language_info": {
   "name": "python"
  }
 },
 "nbformat": 4,
 "nbformat_minor": 2
}
